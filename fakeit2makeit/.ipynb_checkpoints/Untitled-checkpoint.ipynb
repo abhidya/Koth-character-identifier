{
 "cells": [
  {
   "cell_type": "code",
   "execution_count": 7,
   "metadata": {},
   "outputs": [],
   "source": [
    "import pandas as pd \n",
    "\n",
    "li = []\n",
    "\n",
    "\n",
    "all_files = [\"koth_quotes.csv\", \"peggy.csv\", \"bobby.csv\", \"hank.csv\", \"dale.csv\"]\n",
    "for filename in all_files:\n",
    "    df = pd.read_csv(filename, index_col=None, header=0)\n",
    "    try:\n",
    "        li.append(df.sample(5000))\n",
    "    except ValueError:\n",
    "        li.append(df.sample(len(df.index)))\n",
    "frame = pd.concat(li, axis=0, ignore_index=True)"
   ]
  },
  {
   "cell_type": "code",
   "execution_count": 8,
   "metadata": {},
   "outputs": [
    {
     "data": {
      "text/plain": [
       "Hank                                      5183\n",
       "bobby                                     5000\n",
       "dale                                      5000\n",
       "peggy                                     4997\n",
       "Hank Hill                                  215\n",
       "Dale Gribble                                96\n",
       "Bobby                                       67\n",
       "Dale                                        66\n",
       "Bobby Hill                                  57\n",
       "Peggy                                       49\n",
       "Peggy Hill                                  48\n",
       "Bill                                        36\n",
       "Luanne                                      30\n",
       "Cotton Hill                                 29\n",
       "Bill Dauterive                              18\n",
       "Luanne Platter                              18\n",
       "Kahn Souphanousinphone                      17\n",
       "Boomhauer                                   16\n",
       "John Redcorn                                16\n",
       "Kahn                                        16\n",
       "Seasons                                     13\n",
       "Wikipedia has an article about              13\n",
       "Lucky                                       12\n",
       "Buckley                                     11\n",
       "Connie                                      10\n",
       "Wally                                       10\n",
       "Junichiro                                   10\n",
       "Buck                                         9\n",
       "Pollard Wigand                               8\n",
       "Buck Strickland                              8\n",
       "                                          ... \n",
       "Old Man 1                                    1\n",
       "Lisa                                         1\n",
       "Stoner                                       1\n",
       "Dr. Tate                                     1\n",
       "¡Fe… https://t.co/PhDLiSrIrB                 1\n",
       "Tilly Hill                                   1\n",
       "Hank & Peggy                                 1\n",
       "Heck Dorland                                 1\n",
       "Mega Lo Mart Employee                        1\n",
       "Gary Kazner                                  1\n",
       "Minister                                     1\n",
       "Doug the basketball coach                    1\n",
       "Hank(on phone)                               1\n",
       "911 Operator                                 1\n",
       "Team & Hank Hill                             1\n",
       "Diminished Glutes Support Group              1\n",
       "M.F. Thatherton{offscreen}                   1\n",
       "ZZ Top Beard Guy                             1\n",
       "Hank Hill(To Dale)                           1\n",
       "Pit crew guy                                 1\n",
       "Nearby Customer 2                            1\n",
       "Jody \"Ray Roy\" Strickland                    1\n",
       "Wade Bixby                                   1\n",
       "Drunk Biker                                  1\n",
       "9 Part I                                     1\n",
       "Deprogrammer #2                              1\n",
       "Gwen St. James                               1\n",
       "Sign                                         1\n",
       "Peggy Hill (To a group of soccer moms)       1\n",
       "Transnational Amusements                     1\n",
       "Name: Character, Length: 183, dtype: int64"
      ]
     },
     "execution_count": 8,
     "metadata": {},
     "output_type": "execute_result"
    }
   ],
   "source": [
    "frame.Character.value_counts()"
   ]
  },
  {
   "cell_type": "code",
   "execution_count": 9,
   "metadata": {},
   "outputs": [],
   "source": [
    "frame.to_csv(\"faked_koth_quotes.csv\", index=False)"
   ]
  },
  {
   "cell_type": "code",
   "execution_count": null,
   "metadata": {},
   "outputs": [],
   "source": []
  }
 ],
 "metadata": {
  "kernelspec": {
   "display_name": "Python 3",
   "language": "python",
   "name": "python3"
  },
  "language_info": {
   "codemirror_mode": {
    "name": "ipython",
    "version": 3
   },
   "file_extension": ".py",
   "mimetype": "text/x-python",
   "name": "python",
   "nbconvert_exporter": "python",
   "pygments_lexer": "ipython3",
   "version": "3.6.5"
  }
 },
 "nbformat": 4,
 "nbformat_minor": 2
}
